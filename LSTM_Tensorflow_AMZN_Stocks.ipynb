{
 "cells": [
  {
   "cell_type": "markdown",
   "metadata": {},
   "source": [
    "### Step 1 : Importing Libraries"
   ]
  },
  {
   "cell_type": "code",
   "execution_count": 1,
   "metadata": {},
   "outputs": [
    {
     "name": "stdout",
     "output_type": "stream",
     "text": [
      "WARNING:tensorflow:From c:\\Users\\smara\\AppData\\Local\\Programs\\Python\\Python311\\Lib\\site-packages\\keras\\src\\losses.py:2976: The name tf.losses.sparse_softmax_cross_entropy is deprecated. Please use tf.compat.v1.losses.sparse_softmax_cross_entropy instead.\n",
      "\n"
     ]
    }
   ],
   "source": [
    "import tensorflow as tf\n",
    "import yfinance as yf\n",
    "import pandas as pd\n",
    "import numpy as np\n",
    "import keras\n",
    "import matplotlib.pyplot as ptl"
   ]
  },
  {
   "cell_type": "code",
   "execution_count": 2,
   "metadata": {},
   "outputs": [
    {
     "data": {
      "text/plain": [
       "'2.15.0'"
      ]
     },
     "execution_count": 2,
     "metadata": {},
     "output_type": "execute_result"
    }
   ],
   "source": [
    "tf.__version__"
   ]
  },
  {
   "cell_type": "markdown",
   "metadata": {},
   "source": [
    "### Steep 2 : Downloading data through yfinance, i.e. Yahoo Finance\n",
    "###### To analyze GOOGLE stocks patterns, we need historical stock price data. Here's where yfinance comes into play. This library is designed to fetch historical data from Yahoo Finance."
   ]
  },
  {
   "cell_type": "code",
   "execution_count": 3,
   "metadata": {},
   "outputs": [
    {
     "name": "stderr",
     "output_type": "stream",
     "text": [
      "[*********************100%%**********************]  1 of 1 completed\n"
     ]
    },
    {
     "data": {
      "text/html": [
       "<div>\n",
       "<style scoped>\n",
       "    .dataframe tbody tr th:only-of-type {\n",
       "        vertical-align: middle;\n",
       "    }\n",
       "\n",
       "    .dataframe tbody tr th {\n",
       "        vertical-align: top;\n",
       "    }\n",
       "\n",
       "    .dataframe thead th {\n",
       "        text-align: right;\n",
       "    }\n",
       "</style>\n",
       "<table border=\"1\" class=\"dataframe\">\n",
       "  <thead>\n",
       "    <tr style=\"text-align: right;\">\n",
       "      <th></th>\n",
       "      <th>Open</th>\n",
       "      <th>High</th>\n",
       "      <th>Low</th>\n",
       "      <th>Close</th>\n",
       "      <th>Adj Close</th>\n",
       "      <th>Volume</th>\n",
       "    </tr>\n",
       "    <tr>\n",
       "      <th>Date</th>\n",
       "      <th></th>\n",
       "      <th></th>\n",
       "      <th></th>\n",
       "      <th></th>\n",
       "      <th></th>\n",
       "      <th></th>\n",
       "    </tr>\n",
       "  </thead>\n",
       "  <tbody>\n",
       "    <tr>\n",
       "      <th>2020-01-02</th>\n",
       "      <td>93.750000</td>\n",
       "      <td>94.900497</td>\n",
       "      <td>93.207497</td>\n",
       "      <td>94.900497</td>\n",
       "      <td>94.900497</td>\n",
       "      <td>80580000</td>\n",
       "    </tr>\n",
       "    <tr>\n",
       "      <th>2020-01-03</th>\n",
       "      <td>93.224998</td>\n",
       "      <td>94.309998</td>\n",
       "      <td>93.224998</td>\n",
       "      <td>93.748497</td>\n",
       "      <td>93.748497</td>\n",
       "      <td>75288000</td>\n",
       "    </tr>\n",
       "    <tr>\n",
       "      <th>2020-01-06</th>\n",
       "      <td>93.000000</td>\n",
       "      <td>95.184502</td>\n",
       "      <td>93.000000</td>\n",
       "      <td>95.143997</td>\n",
       "      <td>95.143997</td>\n",
       "      <td>81236000</td>\n",
       "    </tr>\n",
       "    <tr>\n",
       "      <th>2020-01-07</th>\n",
       "      <td>95.224998</td>\n",
       "      <td>95.694504</td>\n",
       "      <td>94.601997</td>\n",
       "      <td>95.343002</td>\n",
       "      <td>95.343002</td>\n",
       "      <td>80898000</td>\n",
       "    </tr>\n",
       "    <tr>\n",
       "      <th>2020-01-08</th>\n",
       "      <td>94.902000</td>\n",
       "      <td>95.550003</td>\n",
       "      <td>94.321999</td>\n",
       "      <td>94.598503</td>\n",
       "      <td>94.598503</td>\n",
       "      <td>70160000</td>\n",
       "    </tr>\n",
       "  </tbody>\n",
       "</table>\n",
       "</div>"
      ],
      "text/plain": [
       "                 Open       High        Low      Close  Adj Close    Volume\n",
       "Date                                                                       \n",
       "2020-01-02  93.750000  94.900497  93.207497  94.900497  94.900497  80580000\n",
       "2020-01-03  93.224998  94.309998  93.224998  93.748497  93.748497  75288000\n",
       "2020-01-06  93.000000  95.184502  93.000000  95.143997  95.143997  81236000\n",
       "2020-01-07  95.224998  95.694504  94.601997  95.343002  95.343002  80898000\n",
       "2020-01-08  94.902000  95.550003  94.321999  94.598503  94.598503  70160000"
      ]
     },
     "execution_count": 3,
     "metadata": {},
     "output_type": "execute_result"
    }
   ],
   "source": [
    "# Fetch GOOG data\n",
    "amzn_data = yf.download('AMZN', start='2020-01-01', end='2024-07-01')\n",
    "\n",
    "# Display the first few rows of the dataframe\n",
    "amzn_data.head()"
   ]
  },
  {
   "cell_type": "markdown",
   "metadata": {},
   "source": [
    "##### This script fetches the daily stock prices of Alphabet Inc.(Google) from January 1, 2020, to June 28, 2024."
   ]
  },
  {
   "cell_type": "code",
   "execution_count": 4,
   "metadata": {},
   "outputs": [
    {
     "data": {
      "text/html": [
       "<div>\n",
       "<style scoped>\n",
       "    .dataframe tbody tr th:only-of-type {\n",
       "        vertical-align: middle;\n",
       "    }\n",
       "\n",
       "    .dataframe tbody tr th {\n",
       "        vertical-align: top;\n",
       "    }\n",
       "\n",
       "    .dataframe thead th {\n",
       "        text-align: right;\n",
       "    }\n",
       "</style>\n",
       "<table border=\"1\" class=\"dataframe\">\n",
       "  <thead>\n",
       "    <tr style=\"text-align: right;\">\n",
       "      <th></th>\n",
       "      <th>Open</th>\n",
       "      <th>High</th>\n",
       "      <th>Low</th>\n",
       "      <th>Close</th>\n",
       "      <th>Adj Close</th>\n",
       "      <th>Volume</th>\n",
       "    </tr>\n",
       "    <tr>\n",
       "      <th>Date</th>\n",
       "      <th></th>\n",
       "      <th></th>\n",
       "      <th></th>\n",
       "      <th></th>\n",
       "      <th></th>\n",
       "      <th></th>\n",
       "    </tr>\n",
       "  </thead>\n",
       "  <tbody>\n",
       "    <tr>\n",
       "      <th>2020-01-02</th>\n",
       "      <td>93.750000</td>\n",
       "      <td>94.900497</td>\n",
       "      <td>93.207497</td>\n",
       "      <td>94.900497</td>\n",
       "      <td>94.900497</td>\n",
       "      <td>80580000</td>\n",
       "    </tr>\n",
       "    <tr>\n",
       "      <th>2020-01-03</th>\n",
       "      <td>93.224998</td>\n",
       "      <td>94.309998</td>\n",
       "      <td>93.224998</td>\n",
       "      <td>93.748497</td>\n",
       "      <td>93.748497</td>\n",
       "      <td>75288000</td>\n",
       "    </tr>\n",
       "    <tr>\n",
       "      <th>2020-01-06</th>\n",
       "      <td>93.000000</td>\n",
       "      <td>95.184502</td>\n",
       "      <td>93.000000</td>\n",
       "      <td>95.143997</td>\n",
       "      <td>95.143997</td>\n",
       "      <td>81236000</td>\n",
       "    </tr>\n",
       "    <tr>\n",
       "      <th>2020-01-07</th>\n",
       "      <td>95.224998</td>\n",
       "      <td>95.694504</td>\n",
       "      <td>94.601997</td>\n",
       "      <td>95.343002</td>\n",
       "      <td>95.343002</td>\n",
       "      <td>80898000</td>\n",
       "    </tr>\n",
       "    <tr>\n",
       "      <th>2020-01-08</th>\n",
       "      <td>94.902000</td>\n",
       "      <td>95.550003</td>\n",
       "      <td>94.321999</td>\n",
       "      <td>94.598503</td>\n",
       "      <td>94.598503</td>\n",
       "      <td>70160000</td>\n",
       "    </tr>\n",
       "    <tr>\n",
       "      <th>...</th>\n",
       "      <td>...</td>\n",
       "      <td>...</td>\n",
       "      <td>...</td>\n",
       "      <td>...</td>\n",
       "      <td>...</td>\n",
       "      <td>...</td>\n",
       "    </tr>\n",
       "    <tr>\n",
       "      <th>2024-06-24</th>\n",
       "      <td>189.330002</td>\n",
       "      <td>191.000000</td>\n",
       "      <td>185.330002</td>\n",
       "      <td>185.570007</td>\n",
       "      <td>185.570007</td>\n",
       "      <td>50610400</td>\n",
       "    </tr>\n",
       "    <tr>\n",
       "      <th>2024-06-25</th>\n",
       "      <td>186.809998</td>\n",
       "      <td>188.839996</td>\n",
       "      <td>185.419998</td>\n",
       "      <td>186.339996</td>\n",
       "      <td>186.339996</td>\n",
       "      <td>45898500</td>\n",
       "    </tr>\n",
       "    <tr>\n",
       "      <th>2024-06-26</th>\n",
       "      <td>186.919998</td>\n",
       "      <td>194.800003</td>\n",
       "      <td>186.259995</td>\n",
       "      <td>193.610001</td>\n",
       "      <td>193.610001</td>\n",
       "      <td>65103900</td>\n",
       "    </tr>\n",
       "    <tr>\n",
       "      <th>2024-06-27</th>\n",
       "      <td>195.009995</td>\n",
       "      <td>199.839996</td>\n",
       "      <td>194.199997</td>\n",
       "      <td>197.850006</td>\n",
       "      <td>197.850006</td>\n",
       "      <td>74397500</td>\n",
       "    </tr>\n",
       "    <tr>\n",
       "      <th>2024-06-28</th>\n",
       "      <td>197.729996</td>\n",
       "      <td>198.850006</td>\n",
       "      <td>192.500000</td>\n",
       "      <td>193.250000</td>\n",
       "      <td>193.250000</td>\n",
       "      <td>76930200</td>\n",
       "    </tr>\n",
       "  </tbody>\n",
       "</table>\n",
       "<p>1130 rows × 6 columns</p>\n",
       "</div>"
      ],
      "text/plain": [
       "                  Open        High         Low       Close   Adj Close  \\\n",
       "Date                                                                     \n",
       "2020-01-02   93.750000   94.900497   93.207497   94.900497   94.900497   \n",
       "2020-01-03   93.224998   94.309998   93.224998   93.748497   93.748497   \n",
       "2020-01-06   93.000000   95.184502   93.000000   95.143997   95.143997   \n",
       "2020-01-07   95.224998   95.694504   94.601997   95.343002   95.343002   \n",
       "2020-01-08   94.902000   95.550003   94.321999   94.598503   94.598503   \n",
       "...                ...         ...         ...         ...         ...   \n",
       "2024-06-24  189.330002  191.000000  185.330002  185.570007  185.570007   \n",
       "2024-06-25  186.809998  188.839996  185.419998  186.339996  186.339996   \n",
       "2024-06-26  186.919998  194.800003  186.259995  193.610001  193.610001   \n",
       "2024-06-27  195.009995  199.839996  194.199997  197.850006  197.850006   \n",
       "2024-06-28  197.729996  198.850006  192.500000  193.250000  193.250000   \n",
       "\n",
       "              Volume  \n",
       "Date                  \n",
       "2020-01-02  80580000  \n",
       "2020-01-03  75288000  \n",
       "2020-01-06  81236000  \n",
       "2020-01-07  80898000  \n",
       "2020-01-08  70160000  \n",
       "...              ...  \n",
       "2024-06-24  50610400  \n",
       "2024-06-25  45898500  \n",
       "2024-06-26  65103900  \n",
       "2024-06-27  74397500  \n",
       "2024-06-28  76930200  \n",
       "\n",
       "[1130 rows x 6 columns]"
      ]
     },
     "execution_count": 4,
     "metadata": {},
     "output_type": "execute_result"
    }
   ],
   "source": [
    "amzn_data"
   ]
  },
  {
   "cell_type": "markdown",
   "metadata": {},
   "source": [
    "### Step 3 : Data Preprocessing and Preparation"
   ]
  },
  {
   "cell_type": "markdown",
   "metadata": {},
   "source": [
    "#### Data Cleaning\n",
    "###### - Identifying Missing Values\n",
    "###### - Handling Naomalies"
   ]
  },
  {
   "cell_type": "code",
   "execution_count": 5,
   "metadata": {},
   "outputs": [],
   "source": [
    "# Checking for missing values\n",
    "amzn_data.isnull().sum()\n",
    "\n",
    "# Filling missing values, if any\n",
    "amzn_data.fillna(method='ffill', inplace=True)"
   ]
  },
  {
   "cell_type": "markdown",
   "metadata": {},
   "source": [
    "#### Feature Selection\n",
    "##### In stock market data, various features can be influential. Typically, ‘Open’, ‘High’, ‘Low’, ‘Close’, and ‘Volume’ are used."
   ]
  },
  {
   "cell_type": "markdown",
   "metadata": {},
   "source": [
    "#### Normalization"
   ]
  },
  {
   "cell_type": "code",
   "execution_count": 6,
   "metadata": {},
   "outputs": [],
   "source": [
    "from sklearn.preprocessing import MinMaxScaler\n",
    "\n",
    "scaler=MinMaxScaler(feature_range=(0, 1))\n",
    "amzn_data_scaled=scaler.fit_transform(amzn_data['Close'].values.reshape(-1, 1))"
   ]
  },
  {
   "cell_type": "markdown",
   "metadata": {},
   "source": [
    "#### Creating Sequences\n",
    "##### LSTM models require input to be in a sequence format. We transform the data into sequences for the model to learn from."
   ]
  },
  {
   "cell_type": "markdown",
   "metadata": {},
   "source": [
    "##### Defining Sequence Length: Choose a sequence length (like 60 days). This means, for every sample, the model will look at the last 60 days of data to make a prediction."
   ]
  },
  {
   "cell_type": "code",
   "execution_count": 7,
   "metadata": {},
   "outputs": [],
   "source": [
    "X=[]\n",
    "y=[]\n",
    "\n",
    "for i in range(60, len(amzn_data_scaled)):\n",
    "    X.append(amzn_data_scaled[i-60:i, 0])\n",
    "    y.append(amzn_data_scaled[i ,0])"
   ]
  },
  {
   "cell_type": "markdown",
   "metadata": {},
   "source": [
    "#### Train-Test Split"
   ]
  },
  {
   "cell_type": "code",
   "execution_count": 8,
   "metadata": {},
   "outputs": [],
   "source": [
    "# Here, we take 80% of data is used for training and 20% for testing.\n",
    "\n",
    "from sklearn.model_selection import train_test_split\n",
    "X_train, X_test, y_train, y_test = train_test_split(X, y, test_size = 0.2, random_state = 0)"
   ]
  },
  {
   "cell_type": "markdown",
   "metadata": {},
   "source": [
    "#### Reshaping data for LSTM\n",
    "##### Finally, we need to reshape our data into a 3D format [samples, time steps, features] required by LSTM layers. 3D dimension or new dimeension is (num_samples, time_steps, features) which was earlier (num_samples, time_steps)"
   ]
  },
  {
   "cell_type": "code",
   "execution_count": 9,
   "metadata": {},
   "outputs": [],
   "source": [
    "X_train, y_train = np.array(X_train), np.array(y_train)\n",
    "X_train = np.reshape(X_train, (X_train.shape[0], X_train.shape[1], 1))"
   ]
  },
  {
   "cell_type": "markdown",
   "metadata": {},
   "source": [
    "### Step 4 : Building the LSTM with Attention model"
   ]
  },
  {
   "cell_type": "markdown",
   "metadata": {},
   "source": [
    "#### The construction of our LSTM model with an added attention mechanism, tailored for predicting AMAZON stock patterns."
   ]
  },
  {
   "cell_type": "markdown",
   "metadata": {},
   "source": [
    "#### Creating LSTM Layers"
   ]
  },
  {
   "cell_type": "markdown",
   "metadata": {},
   "source": [
    "##### Our LSTM model will consist of several layers, including LSTM layers for processing the time-series data. The basic structure is as follows:"
   ]
  },
  {
   "cell_type": "code",
   "execution_count": 10,
   "metadata": {},
   "outputs": [
    {
     "name": "stdout",
     "output_type": "stream",
     "text": [
      "WARNING:tensorflow:From c:\\Users\\smara\\AppData\\Local\\Programs\\Python\\Python311\\Lib\\site-packages\\keras\\src\\backend.py:873: The name tf.get_default_graph is deprecated. Please use tf.compat.v1.get_default_graph instead.\n",
      "\n"
     ]
    }
   ],
   "source": [
    "from keras.models import Sequential\n",
    "from keras.layers import LSTM, Dense, Dropout, AdditiveAttention, Permute, Reshape, Multiply\n",
    "\n",
    "model = Sequential()\n",
    "\n",
    "# Adding LSTM layers with return_sequences=True\n",
    "model.add(LSTM(units=50, return_sequences=True, input_shape=(X_train.shape[1], 1)))\n",
    "model.add(LSTM(units=50, return_sequences=True))\n",
    "\n",
    "# units represent the number of neurons in each LSTM layer\n",
    "# return_sequences=True is crucial in the first layers to ensure the output includes sequences, which are essential for stacking \n",
    "# LSTM layers. The final LSTM layer does not return sequences as we prepare the data for the attention layer."
   ]
  },
  {
   "cell_type": "markdown",
   "metadata": {},
   "source": [
    "##### Integrating the Attention Mechanism\n",
    "###### The attention mechanism can be added to enhance the model’s ability to focus on relevant time steps:"
   ]
  },
  {
   "cell_type": "code",
   "execution_count": 11,
   "metadata": {},
   "outputs": [],
   "source": [
    "# Adding self-attention mechanism\n",
    "# The attention mechanism\n",
    "attention=AdditiveAttention(name='attention_weight')\n",
    "\n",
    "# Permute and shape for compatibility\n",
    "model.add(Permute((2, 1)))\n",
    "model.add(Reshape((-1, X_train.shape[1])))\n",
    "attention_result=attention([model.output, model.output])\n",
    "multiply_layer=Multiply()([model.output, attention_result])\n",
    "\n",
    "# Return to original shape\n",
    "model.add(Permute((2, 1)))\n",
    "model.add(Reshape((-1, 50)))\n",
    "\n",
    "# Adding a Flatten layer before the final dense layer\n",
    "model.add(tf.keras.layers.Flatten())\n",
    "\n",
    "# Final Dense Layer\n",
    "model.add(Dense(1))"
   ]
  },
  {
   "cell_type": "markdown",
   "metadata": {},
   "source": [
    "###### This custom layer computes a weighted sum of the input sequence, allowing the model to pay more attention to certain time steps."
   ]
  },
  {
   "cell_type": "markdown",
   "metadata": {},
   "source": [
    "##### Optimizing the model\n",
    "###### To enhance the model’s performance and reduce the risk of overfitting, we include Dropout and Batch Normalization."
   ]
  },
  {
   "cell_type": "code",
   "execution_count": 12,
   "metadata": {},
   "outputs": [],
   "source": [
    "from keras.layers import BatchNormalization\n",
    "\n",
    "# Adding Dropout and Batch Normalization\n",
    "model.add(Dropout(0.2))\n",
    "model.add(BatchNormalization())"
   ]
  },
  {
   "cell_type": "markdown",
   "metadata": {},
   "source": [
    "###### Dropout helps in preventing overfitting by randomly setting a fraction of the input units to 0 at each update during training, and Batch Normalization stabilizes the learning process."
   ]
  },
  {
   "cell_type": "markdown",
   "metadata": {},
   "source": [
    "##### Model Compilation"
   ]
  },
  {
   "cell_type": "code",
   "execution_count": 13,
   "metadata": {},
   "outputs": [
    {
     "name": "stdout",
     "output_type": "stream",
     "text": [
      "WARNING:tensorflow:From c:\\Users\\smara\\AppData\\Local\\Programs\\Python\\Python311\\Lib\\site-packages\\keras\\src\\optimizers\\__init__.py:309: The name tf.train.Optimizer is deprecated. Please use tf.compat.v1.train.Optimizer instead.\n",
      "\n"
     ]
    }
   ],
   "source": [
    "# Compile the model with an optimizer and loss function suited for our regression task. \n",
    "\n",
    "model.compile(optimizer='adam', loss='mean_squared_error')"
   ]
  },
  {
   "cell_type": "markdown",
   "metadata": {},
   "source": [
    "###### adam optimizer is generally a good choice for recurrent neural networks, and mean squared error works well as a loss function for regression tasks like ours."
   ]
  },
  {
   "cell_type": "markdown",
   "metadata": {},
   "source": [
    "##### Model Summary"
   ]
  },
  {
   "cell_type": "code",
   "execution_count": 14,
   "metadata": {},
   "outputs": [
    {
     "name": "stdout",
     "output_type": "stream",
     "text": [
      "Model: \"sequential\"\n",
      "_________________________________________________________________\n",
      " Layer (type)                Output Shape              Param #   \n",
      "=================================================================\n",
      " lstm (LSTM)                 (None, 60, 50)            10400     \n",
      "                                                                 \n",
      " lstm_1 (LSTM)               (None, 60, 50)            20200     \n",
      "                                                                 \n",
      " permute (Permute)           (None, 50, 60)            0         \n",
      "                                                                 \n",
      " reshape (Reshape)           (None, 50, 60)            0         \n",
      "                                                                 \n",
      " permute_1 (Permute)         (None, 60, 50)            0         \n",
      "                                                                 \n",
      " reshape_1 (Reshape)         (None, 60, 50)            0         \n",
      "                                                                 \n",
      " flatten (Flatten)           (None, 3000)              0         \n",
      "                                                                 \n",
      " dense (Dense)               (None, 1)                 3001      \n",
      "                                                                 \n",
      " dropout (Dropout)           (None, 1)                 0         \n",
      "                                                                 \n",
      " batch_normalization (Batch  (None, 1)                 4         \n",
      " Normalization)                                                  \n",
      "                                                                 \n",
      "=================================================================\n",
      "Total params: 33605 (131.27 KB)\n",
      "Trainable params: 33603 (131.26 KB)\n",
      "Non-trainable params: 2 (8.00 Byte)\n",
      "_________________________________________________________________\n"
     ]
    }
   ],
   "source": [
    "model.summary()"
   ]
  },
  {
   "cell_type": "markdown",
   "metadata": {},
   "source": [
    "#### Training Code"
   ]
  },
  {
   "cell_type": "code",
   "execution_count": 15,
   "metadata": {},
   "outputs": [
    {
     "name": "stdout",
     "output_type": "stream",
     "text": [
      "Epoch 1/100\n",
      "WARNING:tensorflow:From c:\\Users\\smara\\AppData\\Local\\Programs\\Python\\Python311\\Lib\\site-packages\\keras\\src\\utils\\tf_utils.py:492: The name tf.ragged.RaggedTensorValue is deprecated. Please use tf.compat.v1.ragged.RaggedTensorValue instead.\n",
      "\n",
      "28/28 [==============================] - 9s 88ms/step - loss: 0.3641 - val_loss: 0.3066\n",
      "Epoch 2/100\n",
      "28/28 [==============================] - 1s 38ms/step - loss: 0.2773 - val_loss: 0.2685\n",
      "Epoch 3/100\n",
      "28/28 [==============================] - 1s 44ms/step - loss: 0.2465 - val_loss: 0.2440\n",
      "Epoch 4/100\n",
      "28/28 [==============================] - 1s 38ms/step - loss: 0.2260 - val_loss: 0.2266\n",
      "Epoch 5/100\n",
      "28/28 [==============================] - 1s 39ms/step - loss: 0.2030 - val_loss: 0.2135\n",
      "Epoch 6/100\n",
      "28/28 [==============================] - 1s 36ms/step - loss: 0.1789 - val_loss: 0.1813\n",
      "Epoch 7/100\n",
      "28/28 [==============================] - 1s 38ms/step - loss: 0.1589 - val_loss: 0.1649\n",
      "Epoch 8/100\n",
      "28/28 [==============================] - 1s 35ms/step - loss: 0.1443 - val_loss: 0.1483\n",
      "Epoch 9/100\n",
      "28/28 [==============================] - 1s 36ms/step - loss: 0.1267 - val_loss: 0.1343\n",
      "Epoch 10/100\n",
      "28/28 [==============================] - 1s 42ms/step - loss: 0.1132 - val_loss: 0.1283\n",
      "Epoch 11/100\n",
      "28/28 [==============================] - 1s 35ms/step - loss: 0.1039 - val_loss: 0.1147\n",
      "Epoch 12/100\n",
      "28/28 [==============================] - 1s 41ms/step - loss: 0.0893 - val_loss: 0.1063\n",
      "Epoch 13/100\n",
      "28/28 [==============================] - 1s 38ms/step - loss: 0.0776 - val_loss: 0.0872\n",
      "Epoch 14/100\n",
      "28/28 [==============================] - 1s 37ms/step - loss: 0.0706 - val_loss: 0.0753\n",
      "Epoch 15/100\n",
      "28/28 [==============================] - 1s 40ms/step - loss: 0.0640 - val_loss: 0.0730\n",
      "Epoch 16/100\n",
      "28/28 [==============================] - 1s 36ms/step - loss: 0.0543 - val_loss: 0.0588\n",
      "Epoch 17/100\n",
      "28/28 [==============================] - 1s 34ms/step - loss: 0.0479 - val_loss: 0.0522\n",
      "Epoch 18/100\n",
      "28/28 [==============================] - 1s 34ms/step - loss: 0.0459 - val_loss: 0.0413\n",
      "Epoch 19/100\n",
      "28/28 [==============================] - 1s 34ms/step - loss: 0.0371 - val_loss: 0.0427\n",
      "Epoch 20/100\n",
      "28/28 [==============================] - 1s 34ms/step - loss: 0.0371 - val_loss: 0.0471\n",
      "Epoch 21/100\n",
      "28/28 [==============================] - 1s 33ms/step - loss: 0.0312 - val_loss: 0.0340\n",
      "Epoch 22/100\n",
      "28/28 [==============================] - 1s 34ms/step - loss: 0.0313 - val_loss: 0.0226\n",
      "Epoch 23/100\n",
      "28/28 [==============================] - 1s 38ms/step - loss: 0.0275 - val_loss: 0.0171\n",
      "Epoch 24/100\n",
      "28/28 [==============================] - 1s 48ms/step - loss: 0.0266 - val_loss: 0.0137\n",
      "Epoch 25/100\n",
      "28/28 [==============================] - 1s 45ms/step - loss: 0.0228 - val_loss: 0.0160\n",
      "Epoch 26/100\n",
      "28/28 [==============================] - 1s 39ms/step - loss: 0.0222 - val_loss: 0.0199\n",
      "Epoch 27/100\n",
      "28/28 [==============================] - 1s 36ms/step - loss: 0.0199 - val_loss: 0.0292\n",
      "Epoch 28/100\n",
      "28/28 [==============================] - 1s 34ms/step - loss: 0.0211 - val_loss: 0.0188\n",
      "Epoch 29/100\n",
      "28/28 [==============================] - 1s 34ms/step - loss: 0.0184 - val_loss: 0.0071\n",
      "Epoch 30/100\n",
      "28/28 [==============================] - 1s 40ms/step - loss: 0.0179 - val_loss: 0.0060\n",
      "Epoch 31/100\n",
      "28/28 [==============================] - 1s 40ms/step - loss: 0.0167 - val_loss: 0.0041\n",
      "Epoch 32/100\n",
      "28/28 [==============================] - 1s 40ms/step - loss: 0.0178 - val_loss: 0.0173\n",
      "Epoch 33/100\n",
      "28/28 [==============================] - 1s 41ms/step - loss: 0.0145 - val_loss: 0.0076\n",
      "Epoch 34/100\n",
      "28/28 [==============================] - 1s 40ms/step - loss: 0.0154 - val_loss: 0.0057\n",
      "Epoch 35/100\n",
      "28/28 [==============================] - 1s 40ms/step - loss: 0.0144 - val_loss: 0.0036\n",
      "Epoch 36/100\n",
      "28/28 [==============================] - 1s 44ms/step - loss: 0.0129 - val_loss: 0.0048\n",
      "Epoch 37/100\n",
      "28/28 [==============================] - 1s 43ms/step - loss: 0.0156 - val_loss: 0.0035\n",
      "Epoch 38/100\n",
      "28/28 [==============================] - 1s 41ms/step - loss: 0.0146 - val_loss: 0.0023\n",
      "Epoch 39/100\n",
      "28/28 [==============================] - 1s 41ms/step - loss: 0.0135 - val_loss: 0.0106\n",
      "Epoch 40/100\n",
      "28/28 [==============================] - 1s 40ms/step - loss: 0.0178 - val_loss: 0.0032\n",
      "Epoch 41/100\n",
      "28/28 [==============================] - 1s 42ms/step - loss: 0.0166 - val_loss: 0.0050\n",
      "Epoch 42/100\n",
      "28/28 [==============================] - 1s 44ms/step - loss: 0.0144 - val_loss: 0.0024\n",
      "Epoch 43/100\n",
      "28/28 [==============================] - 1s 42ms/step - loss: 0.0155 - val_loss: 0.0046\n",
      "Epoch 44/100\n",
      "28/28 [==============================] - 1s 41ms/step - loss: 0.0150 - val_loss: 0.0035\n",
      "Epoch 45/100\n",
      "28/28 [==============================] - 1s 42ms/step - loss: 0.0154 - val_loss: 0.0039\n",
      "Epoch 46/100\n",
      "28/28 [==============================] - 1s 41ms/step - loss: 0.0141 - val_loss: 0.0039\n",
      "Epoch 47/100\n",
      "28/28 [==============================] - 1s 40ms/step - loss: 0.0153 - val_loss: 0.0043\n",
      "Epoch 48/100\n",
      "28/28 [==============================] - 1s 41ms/step - loss: 0.0139 - val_loss: 0.0069\n",
      "Epoch 49/100\n",
      "28/28 [==============================] - 1s 41ms/step - loss: 0.0184 - val_loss: 0.0035\n",
      "Epoch 50/100\n",
      "28/28 [==============================] - 1s 41ms/step - loss: 0.0159 - val_loss: 0.0044\n",
      "Epoch 51/100\n",
      "28/28 [==============================] - 1s 41ms/step - loss: 0.0116 - val_loss: 0.0018\n",
      "Epoch 52/100\n",
      "28/28 [==============================] - 1s 41ms/step - loss: 0.0141 - val_loss: 0.0049\n",
      "Epoch 53/100\n",
      "28/28 [==============================] - 1s 40ms/step - loss: 0.0143 - val_loss: 0.0039\n",
      "Epoch 54/100\n",
      "28/28 [==============================] - 1s 41ms/step - loss: 0.0164 - val_loss: 0.0059\n",
      "Epoch 55/100\n",
      "28/28 [==============================] - 1s 43ms/step - loss: 0.0163 - val_loss: 0.0073\n",
      "Epoch 56/100\n",
      "28/28 [==============================] - 1s 40ms/step - loss: 0.0179 - val_loss: 0.0065\n",
      "Epoch 57/100\n",
      "28/28 [==============================] - 1s 41ms/step - loss: 0.0164 - val_loss: 0.0162\n",
      "Epoch 58/100\n",
      "28/28 [==============================] - 1s 40ms/step - loss: 0.0135 - val_loss: 0.0123\n",
      "Epoch 59/100\n",
      "28/28 [==============================] - 1s 41ms/step - loss: 0.0140 - val_loss: 0.0025\n",
      "Epoch 60/100\n",
      "28/28 [==============================] - 1s 40ms/step - loss: 0.0134 - val_loss: 0.0036\n",
      "Epoch 61/100\n",
      "28/28 [==============================] - 1s 40ms/step - loss: 0.0145 - val_loss: 0.0080\n",
      "Epoch 62/100\n",
      "28/28 [==============================] - 1s 41ms/step - loss: 0.0154 - val_loss: 0.0032\n",
      "Epoch 63/100\n",
      "28/28 [==============================] - 1s 41ms/step - loss: 0.0156 - val_loss: 0.0043\n",
      "Epoch 64/100\n",
      "28/28 [==============================] - 1s 44ms/step - loss: 0.0150 - val_loss: 0.0422\n",
      "Epoch 65/100\n",
      "28/28 [==============================] - 1s 42ms/step - loss: 0.0156 - val_loss: 0.0178\n",
      "Epoch 66/100\n",
      "28/28 [==============================] - 1s 41ms/step - loss: 0.0153 - val_loss: 0.0020\n",
      "Epoch 67/100\n",
      "28/28 [==============================] - 1s 42ms/step - loss: 0.0134 - val_loss: 0.0033\n",
      "Epoch 68/100\n",
      "28/28 [==============================] - 1s 53ms/step - loss: 0.0165 - val_loss: 0.0040\n",
      "Epoch 69/100\n",
      "28/28 [==============================] - 2s 55ms/step - loss: 0.0143 - val_loss: 0.0050\n",
      "Epoch 70/100\n",
      "28/28 [==============================] - 1s 48ms/step - loss: 0.0147 - val_loss: 0.0051\n",
      "Epoch 71/100\n",
      "28/28 [==============================] - 1s 45ms/step - loss: 0.0119 - val_loss: 0.0034\n",
      "Epoch 72/100\n",
      "28/28 [==============================] - 1s 46ms/step - loss: 0.0147 - val_loss: 0.0028\n",
      "Epoch 73/100\n",
      "28/28 [==============================] - 1s 43ms/step - loss: 0.0127 - val_loss: 0.0051\n",
      "Epoch 74/100\n",
      "28/28 [==============================] - 1s 46ms/step - loss: 0.0135 - val_loss: 0.0029\n",
      "Epoch 75/100\n",
      "28/28 [==============================] - 1s 43ms/step - loss: 0.0151 - val_loss: 0.0040\n",
      "Epoch 76/100\n",
      "28/28 [==============================] - 1s 45ms/step - loss: 0.0130 - val_loss: 0.0050\n",
      "Epoch 77/100\n",
      "28/28 [==============================] - 1s 49ms/step - loss: 0.0160 - val_loss: 0.0047\n",
      "Epoch 78/100\n",
      "28/28 [==============================] - 1s 39ms/step - loss: 0.0139 - val_loss: 0.0217\n",
      "Epoch 79/100\n",
      "28/28 [==============================] - 1s 38ms/step - loss: 0.0169 - val_loss: 0.0026\n",
      "Epoch 80/100\n",
      "28/28 [==============================] - 2s 55ms/step - loss: 0.0144 - val_loss: 0.0098\n",
      "Epoch 81/100\n",
      "28/28 [==============================] - 2s 54ms/step - loss: 0.0160 - val_loss: 0.0048\n",
      "Epoch 82/100\n",
      "28/28 [==============================] - 1s 51ms/step - loss: 0.0137 - val_loss: 0.0030\n",
      "Epoch 83/100\n",
      "28/28 [==============================] - 1s 39ms/step - loss: 0.0149 - val_loss: 0.0057\n",
      "Epoch 84/100\n",
      "28/28 [==============================] - 1s 42ms/step - loss: 0.0139 - val_loss: 0.0032\n",
      "Epoch 85/100\n",
      "28/28 [==============================] - 1s 49ms/step - loss: 0.0154 - val_loss: 0.0059\n",
      "Epoch 86/100\n",
      "28/28 [==============================] - 1s 47ms/step - loss: 0.0129 - val_loss: 0.0093\n",
      "Epoch 87/100\n",
      "28/28 [==============================] - 1s 43ms/step - loss: 0.0155 - val_loss: 0.0027\n",
      "Epoch 88/100\n",
      "28/28 [==============================] - 1s 45ms/step - loss: 0.0152 - val_loss: 0.0023\n",
      "Epoch 89/100\n",
      "28/28 [==============================] - 1s 42ms/step - loss: 0.0140 - val_loss: 0.0034\n",
      "Epoch 90/100\n",
      "28/28 [==============================] - 1s 43ms/step - loss: 0.0128 - val_loss: 0.0055\n",
      "Epoch 91/100\n",
      "28/28 [==============================] - 1s 47ms/step - loss: 0.0119 - val_loss: 0.0102\n",
      "Epoch 92/100\n",
      "28/28 [==============================] - 1s 44ms/step - loss: 0.0150 - val_loss: 0.0133\n",
      "Epoch 93/100\n",
      "28/28 [==============================] - 1s 43ms/step - loss: 0.0152 - val_loss: 0.0034\n",
      "Epoch 94/100\n",
      "28/28 [==============================] - 1s 42ms/step - loss: 0.0139 - val_loss: 0.0043\n",
      "Epoch 95/100\n",
      "28/28 [==============================] - 1s 44ms/step - loss: 0.0165 - val_loss: 0.0034\n",
      "Epoch 96/100\n",
      "28/28 [==============================] - 1s 44ms/step - loss: 0.0148 - val_loss: 0.0031\n",
      "Epoch 97/100\n",
      "28/28 [==============================] - 1s 42ms/step - loss: 0.0124 - val_loss: 0.0039\n",
      "Epoch 98/100\n",
      "28/28 [==============================] - 1s 42ms/step - loss: 0.0158 - val_loss: 0.0081\n",
      "Epoch 99/100\n",
      "28/28 [==============================] - 1s 43ms/step - loss: 0.0135 - val_loss: 0.0029\n",
      "Epoch 100/100\n",
      "28/28 [==============================] - 1s 44ms/step - loss: 0.0146 - val_loss: 0.0023\n"
     ]
    }
   ],
   "source": [
    "# Assuming X_train and y_train are already defined and preprocessed\n",
    "history = model.fit(X_train, y_train, epochs=100, batch_size=25, validation_split=0.2)\n",
    "\n",
    "# The validation_split parameter reserves a portion of the training data for validation, \n",
    "# allowing us to monitor the model's performance on unseen data during training."
   ]
  },
  {
   "cell_type": "markdown",
   "metadata": {},
   "source": [
    "#### Avoiding Overfitting"
   ]
  },
  {
   "cell_type": "markdown",
   "metadata": {},
   "source": [
    "##### Overfitting occurs when a model learns patterns specific to the training data, which do not generalize to new data. Here are ways to avoid overfitting:\n",
    "\n",
    "###### 1. Validation Set: Using a validation set (as we did in the training code) helps in monitoring the model’s performance on unseen data.\n",
    "###### 2. Early Stopping: This technique stops training when the model’s performance on the validation set starts to degrade. Implementing early stopping in Keras is straightforward:"
   ]
  },
  {
   "cell_type": "code",
   "execution_count": 16,
   "metadata": {},
   "outputs": [
    {
     "name": "stdout",
     "output_type": "stream",
     "text": [
      "Epoch 1/100\n",
      "28/28 [==============================] - 1s 48ms/step - loss: 0.0121 - val_loss: 0.0038\n",
      "Epoch 2/100\n",
      "28/28 [==============================] - 2s 63ms/step - loss: 0.0143 - val_loss: 0.0027\n",
      "Epoch 3/100\n",
      "28/28 [==============================] - 2s 60ms/step - loss: 0.0150 - val_loss: 0.0026\n",
      "Epoch 4/100\n",
      "28/28 [==============================] - 2s 65ms/step - loss: 0.0133 - val_loss: 0.0026\n",
      "Epoch 5/100\n",
      "28/28 [==============================] - 1s 46ms/step - loss: 0.0143 - val_loss: 0.0020\n",
      "Epoch 6/100\n",
      "28/28 [==============================] - 1s 51ms/step - loss: 0.0129 - val_loss: 0.0042\n",
      "Epoch 7/100\n",
      "28/28 [==============================] - 1s 53ms/step - loss: 0.0129 - val_loss: 0.0015\n",
      "Epoch 8/100\n",
      "28/28 [==============================] - 2s 56ms/step - loss: 0.0155 - val_loss: 0.0091\n",
      "Epoch 9/100\n",
      "28/28 [==============================] - 1s 50ms/step - loss: 0.0140 - val_loss: 0.0048\n",
      "Epoch 10/100\n",
      "28/28 [==============================] - 1s 47ms/step - loss: 0.0128 - val_loss: 0.0050\n",
      "Epoch 11/100\n",
      "28/28 [==============================] - 1s 47ms/step - loss: 0.0117 - val_loss: 0.0056\n",
      "Epoch 12/100\n",
      "28/28 [==============================] - 1s 42ms/step - loss: 0.0133 - val_loss: 0.0022\n",
      "Epoch 13/100\n",
      "28/28 [==============================] - 1s 53ms/step - loss: 0.0120 - val_loss: 0.0027\n",
      "Epoch 14/100\n",
      "28/28 [==============================] - 2s 54ms/step - loss: 0.0122 - val_loss: 0.0032\n",
      "Epoch 15/100\n",
      "28/28 [==============================] - 1s 48ms/step - loss: 0.0129 - val_loss: 0.0023\n",
      "Epoch 16/100\n",
      "28/28 [==============================] - 1s 43ms/step - loss: 0.0180 - val_loss: 0.0035\n",
      "Epoch 17/100\n",
      "28/28 [==============================] - 1s 42ms/step - loss: 0.0179 - val_loss: 0.0086\n"
     ]
    }
   ],
   "source": [
    "from keras.callbacks import EarlyStopping\n",
    "\n",
    "early_stopping = EarlyStopping(monitor='val_loss', patience=10)\n",
    "history = model.fit(X_train, y_train, epochs=100, batch_size=25, validation_split=0.2, callbacks=[early_stopping])\n",
    "\n",
    "# Here, patience=10 means training will stop if the validation loss does not improve for 10 consecutive epochs.\n",
    "# Regularization Techniques: Techniques like Dropout and Batch Normalization, which are already included in our model,\n",
    "# also help in reducing overfitting."
   ]
  },
  {
   "cell_type": "markdown",
   "metadata": {},
   "source": [
    "##### Optional : These are more callbacks"
   ]
  },
  {
   "cell_type": "code",
   "execution_count": 17,
   "metadata": {},
   "outputs": [
    {
     "name": "stdout",
     "output_type": "stream",
     "text": [
      "Epoch 1/100\n",
      "28/28 [==============================] - 3s 50ms/step - loss: 0.0151 - val_loss: 0.0058 - lr: 0.0010\n",
      "Epoch 2/100\n",
      " 1/28 [>.............................] - ETA: 1s - loss: 0.0121"
     ]
    },
    {
     "name": "stderr",
     "output_type": "stream",
     "text": [
      "c:\\Users\\smara\\AppData\\Local\\Programs\\Python\\Python311\\Lib\\site-packages\\keras\\src\\engine\\training.py:3103: UserWarning: You are saving your model as an HDF5 file via `model.save()`. This file format is considered legacy. We recommend using instead the native Keras format, e.g. `model.save('my_model.keras')`.\n",
      "  saving_api.save_model(\n"
     ]
    },
    {
     "name": "stdout",
     "output_type": "stream",
     "text": [
      "28/28 [==============================] - 1s 46ms/step - loss: 0.0132 - val_loss: 0.0042 - lr: 0.0010\n",
      "Epoch 3/100\n",
      "28/28 [==============================] - 1s 49ms/step - loss: 0.0140 - val_loss: 0.0140 - lr: 0.0010\n",
      "Epoch 4/100\n",
      "28/28 [==============================] - 1s 50ms/step - loss: 0.0157 - val_loss: 0.0136 - lr: 0.0010\n",
      "Epoch 5/100\n",
      "28/28 [==============================] - 1s 47ms/step - loss: 0.0160 - val_loss: 0.0053 - lr: 0.0010\n",
      "Epoch 6/100\n",
      "28/28 [==============================] - 2s 78ms/step - loss: 0.0156 - val_loss: 0.0034 - lr: 0.0010\n",
      "Epoch 7/100\n",
      "28/28 [==============================] - 1s 52ms/step - loss: 0.0126 - val_loss: 0.0119 - lr: 0.0010\n",
      "Epoch 8/100\n",
      "28/28 [==============================] - 1s 48ms/step - loss: 0.0147 - val_loss: 0.0048 - lr: 0.0010\n",
      "Epoch 9/100\n",
      "28/28 [==============================] - 2s 56ms/step - loss: 0.0151 - val_loss: 0.0050 - lr: 0.0010\n",
      "Epoch 10/100\n",
      "28/28 [==============================] - 1s 42ms/step - loss: 0.0110 - val_loss: 0.0024 - lr: 0.0010\n",
      "Epoch 11/100\n",
      "28/28 [==============================] - 1s 40ms/step - loss: 0.0136 - val_loss: 0.0079 - lr: 0.0010\n",
      "Epoch 12/100\n",
      "28/28 [==============================] - 1s 39ms/step - loss: 0.0162 - val_loss: 0.0042 - lr: 0.0010\n",
      "Epoch 13/100\n",
      "28/28 [==============================] - 1s 40ms/step - loss: 0.0143 - val_loss: 0.0065 - lr: 0.0010\n",
      "Epoch 14/100\n",
      "28/28 [==============================] - 1s 43ms/step - loss: 0.0144 - val_loss: 0.0041 - lr: 0.0010\n",
      "Epoch 15/100\n",
      "28/28 [==============================] - 1s 45ms/step - loss: 0.0151 - val_loss: 0.0043 - lr: 0.0010\n",
      "Epoch 16/100\n",
      "28/28 [==============================] - 1s 43ms/step - loss: 0.0138 - val_loss: 0.0025 - lr: 1.0000e-04\n",
      "Epoch 17/100\n",
      "28/28 [==============================] - 1s 43ms/step - loss: 0.0138 - val_loss: 0.0028 - lr: 1.0000e-04\n",
      "Epoch 18/100\n",
      "28/28 [==============================] - 1s 46ms/step - loss: 0.0136 - val_loss: 0.0023 - lr: 1.0000e-04\n",
      "Epoch 19/100\n",
      "28/28 [==============================] - 1s 46ms/step - loss: 0.0140 - val_loss: 0.0030 - lr: 1.0000e-04\n",
      "Epoch 20/100\n",
      "28/28 [==============================] - 1s 43ms/step - loss: 0.0148 - val_loss: 0.0031 - lr: 1.0000e-04\n",
      "Epoch 21/100\n",
      "28/28 [==============================] - 1s 43ms/step - loss: 0.0111 - val_loss: 0.0030 - lr: 1.0000e-05\n",
      "Epoch 22/100\n",
      "28/28 [==============================] - 1s 43ms/step - loss: 0.0115 - val_loss: 0.0028 - lr: 1.0000e-05\n",
      "Epoch 23/100\n",
      "28/28 [==============================] - 1s 46ms/step - loss: 0.0116 - val_loss: 0.0029 - lr: 1.0000e-05\n",
      "Epoch 24/100\n",
      "28/28 [==============================] - 2s 58ms/step - loss: 0.0127 - val_loss: 0.0028 - lr: 1.0000e-05\n",
      "Epoch 25/100\n",
      "28/28 [==============================] - 1s 46ms/step - loss: 0.0132 - val_loss: 0.0028 - lr: 1.0000e-05\n",
      "Epoch 26/100\n",
      "28/28 [==============================] - 1s 46ms/step - loss: 0.0133 - val_loss: 0.0028 - lr: 1.0000e-06\n",
      "Epoch 27/100\n",
      "28/28 [==============================] - 1s 48ms/step - loss: 0.0138 - val_loss: 0.0028 - lr: 1.0000e-06\n",
      "Epoch 28/100\n",
      "28/28 [==============================] - 1s 45ms/step - loss: 0.0129 - val_loss: 0.0028 - lr: 1.0000e-06\n"
     ]
    }
   ],
   "source": [
    "from keras.callbacks import ModelCheckpoint, ReduceLROnPlateau, TensorBoard, CSVLogger\n",
    "\n",
    "# Callback to savee the model periodically\n",
    "model_checkpoint = ModelCheckpoint('best_model.h5', save_best_only=True, monitor='val_loss')\n",
    "\n",
    "# Callback to reduce learning rate when a metric has stopped improving\n",
    "reduce_lr = ReduceLROnPlateau(monitor='val_loss', factor=0.1, patience=5)\n",
    "\n",
    "# Callback for Tensorboard\n",
    "tensorboard = TensorBoard(log_dir='./logs')\n",
    "\n",
    "# Callback to log details to a CSV file\n",
    "csv_logger = CSVLogger('training_log.csv')\n",
    "\n",
    "# Combining all callbacks\n",
    "callbacks_list = [early_stopping, model_checkpoint, reduce_lr, tensorboard, csv_logger]\n",
    "\n",
    "# Fit the model with the callbacks\n",
    "history = model.fit(X_train, y_train, epochs=100, batch_size=25, validation_split=0.2, callbacks=callbacks_list)"
   ]
  },
  {
   "cell_type": "markdown",
   "metadata": {},
   "source": [
    "### Step 5 : Evaluating Model Performance "
   ]
  },
  {
   "cell_type": "markdown",
   "metadata": {},
   "source": [
    "#### Evaluating with the test set\n",
    "##### To evaluate the model, we first need to prepare our test data (X_test) in the same way we did for the training data. Then, we can use the model's evaluate function:"
   ]
  },
  {
   "cell_type": "code",
   "execution_count": 18,
   "metadata": {},
   "outputs": [
    {
     "name": "stdout",
     "output_type": "stream",
     "text": [
      "7/7 [==============================] - 0s 18ms/step - loss: 0.0037\n",
      "Test Loss: 0.0036911661736667156\n"
     ]
    }
   ],
   "source": [
    "# Convert X_test and y_test to numpy arrays if they are not already\n",
    "X_test=np.array(X_test)\n",
    "y_test=np.array(y_test)\n",
    "\n",
    "# Ensure X_test is reshaped similarly to how X_train was reshaped\n",
    "# This depends on how you preprocessed the training data\n",
    "X_test = np.reshape(X_test, (X_test.shape[0], X_test.shape[1], 1))\n",
    "\n",
    "# Now evaluatee the model on the test data\n",
    "test_loss = model.evaluate(X_test, y_test)\n",
    "print(\"Test Loss:\", test_loss)"
   ]
  },
  {
   "cell_type": "markdown",
   "metadata": {},
   "source": [
    "#### Performance Metrics\n",
    "##### In addition to the loss, other metrics can provide more insights into the model’s performance. For regression tasks like ours, common metrics include:\n",
    "\n",
    "##### 1. Mean Absolute Error (MAE): This measures the average magnitude of the errors in a set of predictions, without considering their direction.\n",
    "##### 2. Root Mean Square Error (RMSE): This is the square root of the average of squared differences between prediction and actual observation."
   ]
  },
  {
   "cell_type": "code",
   "execution_count": 19,
   "metadata": {},
   "outputs": [
    {
     "name": "stdout",
     "output_type": "stream",
     "text": [
      "7/7 [==============================] - 2s 15ms/step\n",
      "Mean Absolute Error :  0.05094794126489605\n",
      "Root Mean Square Error :  0.060754970451089706\n"
     ]
    }
   ],
   "source": [
    "from sklearn.metrics import mean_absolute_error, mean_squared_error\n",
    "\n",
    "# Making Predictions\n",
    "y_pred = model.predict(X_test)\n",
    "\n",
    "# Calculating MAE and RMSE\n",
    "mae = mean_absolute_error(y_test, y_pred)\n",
    "rmse = mean_squared_error(y_test, y_pred, squared=False)\n",
    "\n",
    "print(\"Mean Absolute Error : \", mae)\n",
    "print(\"Root Mean Square Error : \", rmse)"
   ]
  },
  {
   "cell_type": "markdown",
   "metadata": {},
   "source": [
    "##### A MAE of 0.0433 means that, on average, the model’s predictions are about 0.0433 units away from the actual values.\n",
    "##### An RMSE of 0.0644 means that the model’s predictions are, on average, 0.0644 units away from the actual values when larger errors are penalized more."
   ]
  },
  {
   "cell_type": "markdown",
   "metadata": {},
   "source": [
    "### Step 6 : Predicting the next 4 candles(days) of AMAZON stock prices\n"
   ]
  },
  {
   "cell_type": "code",
   "execution_count": 20,
   "metadata": {},
   "outputs": [
    {
     "name": "stderr",
     "output_type": "stream",
     "text": [
      "[*********************100%%**********************]  1 of 1 completed"
     ]
    },
    {
     "name": "stdout",
     "output_type": "stream",
     "text": [
      "1/1 [==============================] - 0s 37ms/step\n",
      "Predicted Stock Prices for the next 4 days:  [[173.24702]]\n"
     ]
    },
    {
     "name": "stderr",
     "output_type": "stream",
     "text": [
      "\n"
     ]
    }
   ],
   "source": [
    "# Fetching the latest 90 days of AMZN stock data\n",
    "data = yf.download('AMZN', period='3mo', interval='1d')\n",
    "\n",
    "# Selecting the 'Close' price and converting to numpy array\n",
    "closing_prices = data['Close'].values\n",
    "\n",
    "# Scaling the data\n",
    "scaler = MinMaxScaler(feature_range=(0,1))\n",
    "scaled_data = scaler.fit_transform(closing_prices.reshape(-1,1))\n",
    "\n",
    "# Since we need the last 60 days (2 months) to predict the next day, we reshape the data accordingly\n",
    "X_latest = np.array([scaled_data[-60:].reshape(60)])\n",
    "\n",
    "# Reshaping the data for the model (adding batch dimension)\n",
    "X_latest = np.reshape(X_latest, (X_latest.shape[0], X_latest.shape[1], 1))\n",
    "\n",
    "# Making predictions for the next 4 candles\n",
    "predicted_stock_price = model.predict(X_latest)\n",
    "predicted_stock_price = scaler.inverse_transform(predicted_stock_price)\n",
    "\n",
    "print(\"Predicted Stock Prices for the next 4 days: \", predicted_stock_price)"
   ]
  },
  {
   "cell_type": "markdown",
   "metadata": {},
   "source": [
    "#### Predicting the price for the next 4 days"
   ]
  },
  {
   "cell_type": "code",
   "execution_count": 21,
   "metadata": {},
   "outputs": [
    {
     "name": "stderr",
     "output_type": "stream",
     "text": [
      "[*********************100%%**********************]  1 of 1 completed"
     ]
    },
    {
     "name": "stdout",
     "output_type": "stream",
     "text": [
      "1/1 [==============================] - 0s 30ms/step\n"
     ]
    },
    {
     "name": "stderr",
     "output_type": "stream",
     "text": [
      "\n"
     ]
    },
    {
     "name": "stdout",
     "output_type": "stream",
     "text": [
      "1/1 [==============================] - 0s 32ms/step\n",
      "1/1 [==============================] - 0s 34ms/step\n",
      "1/1 [==============================] - 0s 29ms/step\n",
      "Predicted Stock Prices for the next 4 days:  [173.24702, 174.44434, 176.1749, 177.69319]\n"
     ]
    }
   ],
   "source": [
    "# Fetch the latest 60 days of AMZN stock data\n",
    "data = yf.download('AMZN', period='3mo', interval='1d')\n",
    "\n",
    "# Select 'Close' price and scale it\n",
    "closing_prices = data['Close'].values.reshape(-1, 1)\n",
    "scaler = MinMaxScaler(feature_range=(0, 1))\n",
    "scaled_data = scaler.fit_transform(closing_prices)\n",
    "\n",
    "# Predict the next 4 days iteratively\n",
    "predicted_prices = []\n",
    "current_batch = scaled_data[-60:].reshape(1, 60, 1)  # Most recent 60 days\n",
    "\n",
    "for i in range(4):  # Predicting 4 days\n",
    "    # Get the prediction (next day)\n",
    "    next_prediction = model.predict(current_batch)\n",
    "    \n",
    "    # Reshape the prediction to fit the batch dimension\n",
    "    next_prediction_reshaped = next_prediction.reshape(1, 1, 1)\n",
    "    \n",
    "    # Append the prediction to the batch used for predicting\n",
    "    current_batch = np.append(current_batch[:, 1:, :], next_prediction_reshaped, axis=1)\n",
    "    \n",
    "    # Inverse transform the prediction to the original price scale\n",
    "    predicted_prices.append(scaler.inverse_transform(next_prediction)[0, 0])\n",
    "\n",
    "print(\"Predicted Stock Prices for the next 4 days: \", predicted_prices)"
   ]
  },
  {
   "cell_type": "markdown",
   "metadata": {},
   "source": [
    "#### Visualization of Predictions"
   ]
  },
  {
   "cell_type": "code",
   "execution_count": 22,
   "metadata": {},
   "outputs": [],
   "source": [
    "import mplfinance as mpf\n",
    "import matplotlib.dates as mpl_dates\n",
    "import matplotlib.pyplot as plt"
   ]
  },
  {
   "cell_type": "code",
   "execution_count": 23,
   "metadata": {},
   "outputs": [
    {
     "data": {
      "image/png": "[encoded data removed]",
      "text/plain": [
       "<Figure size 800x575 with 4 Axes>"
      ]
     },
     "metadata": {},
     "output_type": "display_data"
    },
    {
     "data": {
      "image/png": "[encoded data removed]",
      "text/plain": [
       "<Figure size 1000x600 with 1 Axes>"
      ]
     },
     "metadata": {},
     "output_type": "display_data"
    }
   ],
   "source": [
    "# Assuming 'data' is your DataFrame with the fetched AMZN stock data\n",
    "# Make sure it contains Open, High, Low, Close, and Volume columns\n",
    "\n",
    "# Creating a list of dates for the predictions\n",
    "last_date = data.index[-1]\n",
    "next_day = last_date + pd.Timedelta(days=1)\n",
    "prediction_dates = pd.date_range(start=next_day, periods=4)\n",
    "\n",
    "# Assuming 'predicted_prices' is your list of predicted prices for the next 4 days\n",
    "predictions_df = pd.DataFrame(index=prediction_dates, data=predicted_prices, columns=['Close'])\n",
    "\n",
    "# Plotting the actual data with mplfinance\n",
    "mpf.plot(data, type='candle', style='charles', volume=True)\n",
    "\n",
    "# Overlaying the predicted data\n",
    "plt.figure(figsize=(10,6))\n",
    "plt.plot(predictions_df.index, predictions_df['Close'], linestyle='dashed', marker='o', color='red')\n",
    "\n",
    "plt.title(\"AMAZON(AMZN) Stock Price with Predicted Next 4 Days\")\n",
    "plt.show()"
   ]
  },
  {
   "cell_type": "markdown",
   "metadata": {},
   "source": [
    "#### Final Visual for Predictions"
   ]
  },
  {
   "cell_type": "code",
   "execution_count": 24,
   "metadata": {},
   "outputs": [
    {
     "name": "stderr",
     "output_type": "stream",
     "text": [
      "[*********************100%%**********************]  1 of 1 completed"
     ]
    },
    {
     "name": "stdout",
     "output_type": "stream",
     "text": [
      "1/1 [==============================] - 0s 35ms/step\n"
     ]
    },
    {
     "name": "stderr",
     "output_type": "stream",
     "text": [
      "\n"
     ]
    },
    {
     "name": "stdout",
     "output_type": "stream",
     "text": [
      "1/1 [==============================] - 0s 33ms/step\n",
      "1/1 [==============================] - 0s 29ms/step\n",
      "1/1 [==============================] - 0s 32ms/step\n"
     ]
    },
    {
     "data": {
      "image/png": "[encoded data removed]",
      "text/plain": [
       "<Figure size 1000x600 with 1 Axes>"
      ]
     },
     "metadata": {},
     "output_type": "display_data"
    }
   ],
   "source": [
    "# Fetch the latest 60 days of AMZN stock data\n",
    "data = yf.download('AMZN', period='3mo', interval='1d') # Fetch 64 days to display last 60 days in the chart\n",
    "\n",
    "# Select 'Close' price and scale it\n",
    "closing_prices = data['Close'].values.reshape(-1, 1)\n",
    "scaler = MinMaxScaler(feature_range=(0, 1))\n",
    "scaled_data = scaler.fit_transform(closing_prices)\n",
    "\n",
    "# Predict the next 4 days iteratively\n",
    "predicted_prices = []\n",
    "current_batch = scaled_data[-60:].reshape(1, 60, 1)  # Most recent 60 days\n",
    "\n",
    "for i in range(4):  # Predicting 4 days\n",
    "    next_prediction = model.predict(current_batch)\n",
    "    next_prediction_reshaped = next_prediction.reshape(1, 1, 1)\n",
    "    current_batch = np.append(current_batch[:, 1:, :], next_prediction_reshaped, axis=1)\n",
    "    predicted_prices.append(scaler.inverse_transform(next_prediction)[0, 0])\n",
    "\n",
    "# Creating a list of dates for the predictions\n",
    "last_date = data.index[-1]\n",
    "next_day = last_date + pd.Timedelta(days=1)\n",
    "prediction_dates = pd.date_range(start=next_day, periods=4)\n",
    "\n",
    "# Adding predictions to the DataFrame\n",
    "predicted_data = pd.DataFrame(index=prediction_dates, data=predicted_prices, columns=['Close'])\n",
    "\n",
    "# Combining both actual and predicted data\n",
    "combined_data = pd.concat([data['Close'], predicted_data['Close']])\n",
    "combined_data = combined_data[-64:] # Last 60 days of actual data + 4 days of predictions\n",
    "\n",
    "# Plotting the actual data\n",
    "plt.figure(figsize=(10,6))\n",
    "plt.plot(data.index[-60:], data['Close'][-60:], linestyle='-', marker='o', color='blue', label='Actual Data')\n",
    "\n",
    "# Plotting the predicted data\n",
    "plt.plot(prediction_dates, predicted_prices, linestyle='-', marker='o', color='red', label='Predicted Data')\n",
    "\n",
    "plt.title(\"AMAZON(AMZN) Stock Price: Last 60 Days and Next 4 Days Predicted\")\n",
    "plt.xlabel('Date')\n",
    "plt.ylabel('Price')\n",
    "plt.legend()\n",
    "plt.show()"
   ]
  }
 ],
 "metadata": {
  "kernelspec": {
   "display_name": "Python 3",
   "language": "python",
   "name": "python3"
  },
  "language_info": {
   "codemirror_mode": {
    "name": "ipython",
    "version": 3
   },
   "file_extension": ".py",
   "mimetype": "text/x-python",
   "name": "python",
   "nbconvert_exporter": "python",
   "pygments_lexer": "ipython3",
   "version": "3.11.3"
  }
 },
 "nbformat": 4,
 "nbformat_minor": 2
}
